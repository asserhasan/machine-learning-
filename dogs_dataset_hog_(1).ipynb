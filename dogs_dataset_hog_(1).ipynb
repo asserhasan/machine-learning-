{
  "cells": [
    {
      "cell_type": "markdown",
      "metadata": {
        "id": "view-in-github",
        "colab_type": "text"
      },
      "source": [
        "<a href=\"https://colab.research.google.com/github/asserhasan/machine-learning-/blob/main/dogs_dataset_hog_(1).ipynb\" target=\"_parent\"><img src=\"https://colab.research.google.com/assets/colab-badge.svg\" alt=\"Open In Colab\"/></a>"
      ]
    },
    {
      "cell_type": "code",
      "execution_count": null,
      "metadata": {
        "id": "UduxCtkx5WpO"
      },
      "outputs": [],
      "source": [
        "import numpy as np\n",
        "import matplotlib.pyplot as plt\n",
        "from skimage.feature import hog\n",
        "from skimage import exposure\n",
        "import os\n",
        "import numpy as np\n",
        "import skimage\n",
        "import skimage.io\n",
        "from skimage import transform\n",
        "from skimage.transform import resize\n",
        "from skimage.color import rgb2gray\n",
        "from skimage import transform\n",
        "from skimage import io, color, feature, exposure\n",
        "from sklearn.model_selection import train_test_split\n",
        "from sklearn.metrics import accuracy_score, classification_report\n",
        "from sklearn.preprocessing import LabelEncoder\n",
        "import cv2\n",
        "import xml.etree.ElementTree as ET"
      ]
    },
    {
      "cell_type": "code",
      "execution_count": null,
      "metadata": {
        "id": "buth-7AF6NWX"
      },
      "outputs": [],
      "source": [
        "# Function to extract HOG features from an image and visualize it\n",
        "from skimage import exposure\n",
        "from skimage.feature import hog\n",
        "def extract_hog_features(image):\n",
        "    # Convert the image to grayscal\n",
        "    if image.shape[-1] == 3:\n",
        "            grayscale_img = cv2.cvtColor(image, cv2.COLOR_BGR2GRAY)\n",
        "    else:\n",
        "            grayscale_img = image\n",
        "    resized_img = cv2.resize(grayscale_img,(64,128), interpolation=cv2.INTER_AREA)\n",
        "    # Calculate HOG features\n",
        "    img_eq = exposure.equalize_hist(resized_img)\n",
        "    hog_features, hog_image = hog(img_eq, orientations=9, pixels_per_cell=(8, 8),\n",
        "                \tcells_per_block=(2, 2), visualize=True)\n",
        "\n",
        "    return hog_features , hog_image"
      ]
    },
    {
      "cell_type": "code",
      "execution_count": null,
      "metadata": {
        "id": "hWE2GI5nJcHK"
      },
      "outputs": [],
      "source": [
        "root_images=\"/content/drive/MyDrive/image_dataset/images\"\n",
        "root_annots=\"/content/drive/MyDrive/image_dataset/Annotation\""
      ]
    },
    {
      "cell_type": "code",
      "execution_count": null,
      "metadata": {
        "id": "mEGOPyC9JFgR"
      },
      "outputs": [],
      "source": [
        "def bounding_box(image ,b):\n",
        "    bpath = root_annots+str(\"/\"+b+\"/\"+str(image.split(\".\")[0]))\n",
        "    tree = ET.parse(bpath)\n",
        "    root = tree.getroot()\n",
        "    objects = root.findall('object')\n",
        "    for o in objects:\n",
        "        bndbox = o.find('bndbox') # reading bound box\n",
        "        xmin = int(bndbox.find('xmin').text)\n",
        "        ymin = int(bndbox.find('ymin').text)\n",
        "        xmax = int(bndbox.find('xmax').text)\n",
        "        ymax = int(bndbox.find('ymax').text)\n",
        "\n",
        "    return (xmin,ymin,xmax,ymax)"
      ]
    },
    {
      "cell_type": "code",
      "execution_count": null,
      "metadata": {
        "colab": {
          "background_save": true,
          "base_uri": "https://localhost:8080/",
          "height": 1000
        },
        "id": "Ga5vHI-v6QHG",
        "outputId": "e6ab21cf-7961-41d4-970d-a2fbdef98c33"
      },
      "outputs": [],
      "source": [
        "# Path to the root folder of your dataset\n",
        "dataset_path = root_images\n",
        "\n",
        "# List all subdirectories (assuming each subdirectory corresponds to a class)\n",
        "class_folders = [f.path for f in os.scandir(dataset_path) if f.is_dir()]\n",
        "features_list=[]\n",
        "labels_list=[]\n",
        "\n",
        "from google.colab.patches import cv2_imshow\n",
        "import cv2\n",
        "\n",
        "# Loop through each class folder\n",
        "for class_folder in class_folders:\n",
        "    class_name = os.path.basename(class_folder)\n",
        "\n",
        "    # Loop through each image in the class folder\n",
        "    for image_filename in os.listdir(class_folder):\n",
        "        image_path = os.path.join(class_folder, image_filename)\n",
        "\n",
        "        # Load the image\n",
        "        xmin , ymin ,xmax,ymax = bounding_box(image_filename,class_name)\n",
        "        image = cv2.imread(image_path)\n",
        "        cropped_img = image[ymin:ymax, xmin:xmax]\n",
        "\n",
        "        # Extract HOG features and visualize\n",
        "        hog_features, hog_image = extract_hog_features(cropped_img)\n",
        "\n",
        "        # Display the original image and the HOG features\n",
        "        fig, (ax1, ax2) = plt.subplots(1, 2, figsize=(2, 2), sharex=True, sharey=True)\n",
        "\n",
        "        ax1.axis('off')\n",
        "        ax1.imshow(cropped_img, cmap=plt.cm.gray)\n",
        "\n",
        "        ax2.axis('off')\n",
        "        ax2.imshow(hog_image, cmap=plt.cm.gray)\n",
        "\n",
        "        plt.show()\n",
        "\n",
        "        # Append HOG features to the features list\n",
        "        features_list.append(hog_features)\n",
        "\n",
        "        # Append the label to the labels list\n",
        "        labels_list.append(int(class_name))\n"
      ]
    },
    {
      "cell_type": "code",
      "execution_count": null,
      "metadata": {
        "colab": {
          "base_uri": "https://localhost:8080/"
        },
        "id": "o_YZmI7u9DB7",
        "outputId": "a10ca9ba-585b-4548-f655-c961c8f8e648"
      },
      "outputs": [
        {
          "data": {
            "text/plain": [
              "array([1, 2, 3, 4, 5])"
            ]
          },
          "execution_count": 71,
          "metadata": {},
          "output_type": "execute_result"
        }
      ],
      "source": [
        "np.unique(labels_list)"
      ]
    },
    {
      "cell_type": "code",
      "execution_count": null,
      "metadata": {
        "colab": {
          "base_uri": "https://localhost:8080/"
        },
        "id": "T21ZKxUcOgx_",
        "outputId": "802f5206-eaf8-48a9-cfbe-443ec639bcd6"
      },
      "outputs": [
        {
          "name": "stdout",
          "output_type": "stream",
          "text": [
            "Mounted at /content/drive\n"
          ]
        }
      ],
      "source": [
        "from google.colab import drive\n",
        "drive.mount('/content/drive')"
      ]
    },
    {
      "cell_type": "code",
      "execution_count": null,
      "metadata": {
        "id": "EcXTzdWr9PMm"
      },
      "outputs": [],
      "source": [
        "x_train , x_test , y_train , y_test = train_test_split(features_list , labels_list ,test_size = 0.33, random_state=12)"
      ]
    },
    {
      "cell_type": "code",
      "execution_count": null,
      "metadata": {
        "id": "Dn5dUzshEfU3"
      },
      "outputs": [],
      "source": [
        "from sklearn.model_selection import train_test_split\n",
        "from sklearn.linear_model import LogisticRegression\n",
        "model = LogisticRegression(C= 0.1 ,penalty = 'l2',solver='liblinear', max_iter=1000)\n",
        "History = model.fit(x_train,y_train)"
      ]
    },
    {
      "cell_type": "code",
      "execution_count": null,
      "metadata": {
        "colab": {
          "base_uri": "https://localhost:8080/"
        },
        "id": "eTZUbmqZEo2_",
        "outputId": "b4e1e8a5-6ad5-4c4e-d3f8-ea81e334ca08"
      },
      "outputs": [
        {
          "name": "stdout",
          "output_type": "stream",
          "text": [
            "[9 8 8 8 8]\n"
          ]
        }
      ],
      "source": [
        "y_predict = model.predict(x_test)\n",
        "print(model.n_iter_)"
      ]
    },
    {
      "cell_type": "code",
      "execution_count": null,
      "metadata": {
        "id": "HRbkz7crEvjD"
      },
      "outputs": [],
      "source": [
        "predictions = model.predict(x_test)\n",
        "\n",
        "# Calculate accuracy\n",
        "accuracy = accuracy_score(y_test, predictions)"
      ]
    },
    {
      "cell_type": "code",
      "execution_count": null,
      "metadata": {
        "colab": {
          "base_uri": "https://localhost:8080/"
        },
        "id": "cPhYy1u2ExqJ",
        "outputId": "021d4372-4955-41d3-be2a-cb25808f4631"
      },
      "outputs": [
        {
          "name": "stdout",
          "output_type": "stream",
          "text": [
            "0.4810606060606061\n"
          ]
        }
      ],
      "source": [
        "print(accuracy)"
      ]
    },
    {
      "cell_type": "code",
      "execution_count": null,
      "metadata": {
        "colab": {
          "base_uri": "https://localhost:8080/"
        },
        "id": "Qu5zEhIbFPmo",
        "outputId": "3563acd8-f20b-4dc5-bd6e-ea34e8b51074"
      },
      "outputs": [
        {
          "name": "stdout",
          "output_type": "stream",
          "text": [
            "(799, 3780)\n"
          ]
        }
      ],
      "source": [
        "print (np.shape(features_list))"
      ]
    },
    {
      "cell_type": "code",
      "execution_count": null,
      "metadata": {
        "id": "MWfLG99lFWbX"
      },
      "outputs": [],
      "source": []
    }
  ],
  "metadata": {
    "colab": {
      "provenance": [],
      "include_colab_link": true
    },
    "kernelspec": {
      "display_name": "Python 3",
      "name": "python3"
    },
    "language_info": {
      "name": "python"
    }
  },
  "nbformat": 4,
  "nbformat_minor": 0
}