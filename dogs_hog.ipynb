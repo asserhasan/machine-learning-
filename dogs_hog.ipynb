{
  "nbformat": 4,
  "nbformat_minor": 0,
  "metadata": {
    "colab": {
      "provenance": [],
      "mount_file_id": "1K-GEDlXBGVBR-vJ7QVRAp_OvCyhKM3Bi",
      "authorship_tag": "ABX9TyNlAr1CGKtro13lwfMbx+/X",
      "include_colab_link": true
    },
    "kernelspec": {
      "name": "python3",
      "display_name": "Python 3"
    },
    "language_info": {
      "name": "python"
    }
  },
  "cells": [
    {
      "cell_type": "markdown",
      "metadata": {
        "id": "view-in-github",
        "colab_type": "text"
      },
      "source": [
        "<a href=\"https://colab.research.google.com/github/asserhasan/machine-learning-/blob/main/dogs_hog.ipynb\" target=\"_parent\"><img src=\"https://colab.research.google.com/assets/colab-badge.svg\" alt=\"Open In Colab\"/></a>"
      ]
    },
    {
      "cell_type": "markdown",
      "source": [
        "##libraries"
      ],
      "metadata": {
        "id": "GHNe1fJ0hwFU"
      }
    },
    {
      "cell_type": "code",
      "execution_count": 11,
      "metadata": {
        "id": "vpE8r5AQhon6"
      },
      "outputs": [],
      "source": [
        "import numpy as np\n",
        "import matplotlib.pyplot as plt\n",
        "from skimage.feature import hog\n",
        "from skimage import exposure\n",
        "import os\n",
        "import numpy as np\n",
        "import skimage\n",
        "import skimage.io\n",
        "from skimage import transform\n",
        "from skimage.transform import resize\n",
        "from skimage.color import rgb2gray\n",
        "from skimage import transform\n",
        "from skimage import io, color, feature, exposure\n",
        "from sklearn.model_selection import train_test_split\n",
        "from sklearn.metrics import accuracy_score, classification_report\n",
        "from sklearn.preprocessing import LabelEncoder\n",
        "import cv2\n",
        "import xml.etree.ElementTree as ET"
      ]
    },
    {
      "cell_type": "markdown",
      "source": [
        "##preparing image for hog and hog function"
      ],
      "metadata": {
        "id": "zBaEXjDviW4f"
      }
    },
    {
      "cell_type": "code",
      "source": [
        "# Function to extract HOG features from an image and visualize it\n",
        "from skimage import exposure\n",
        "from skimage.feature import hog\n",
        "def extract_hog_features(image):\n",
        "    # Convert the image to grayscal\n",
        "    if image.shape[-1] == 3:\n",
        "            grayscale_img = cv2.cvtColor(image, cv2.COLOR_BGR2GRAY)\n",
        "    else:\n",
        "            grayscale_img = image\n",
        "    resized_img = cv2.resize(grayscale_img,(64,128), interpolation=cv2.INTER_AREA)\n",
        "    # Calculate HOG features\n",
        "    hog_features, hog_image = hog(resized_img, orientations=9, pixels_per_cell=(8, 8),\n",
        "                \tcells_per_block=(2, 2), visualize=True)\n",
        "\n",
        "    return hog_features , hog_image"
      ],
      "metadata": {
        "id": "e0lT1Nd9hsNK"
      },
      "execution_count": 12,
      "outputs": []
    },
    {
      "cell_type": "code",
      "source": [
        "root_images=\"/content/drive/MyDrive/image_dataset/images\"\n",
        "root_annots=\"/content/drive/MyDrive/image_dataset/Annotation\"\n"
      ],
      "metadata": {
        "id": "vscetxWCidwp"
      },
      "execution_count": 13,
      "outputs": []
    },
    {
      "cell_type": "code",
      "source": [
        "# exetracting bounding box from annotation folder\n",
        "def bounding_box(image ,b):\n",
        "    bpath = root_annots+str(\"/\"+b+\"/\"+str(image.split(\".\")[0]))\n",
        "    tree = ET.parse(bpath)\n",
        "    root = tree.getroot()\n",
        "    objects = root.findall('object')\n",
        "    for o in objects:\n",
        "        bndbox = o.find('bndbox') # reading bound box\n",
        "        xmin = int(bndbox.find('xmin').text)\n",
        "        ymin = int(bndbox.find('ymin').text)\n",
        "        xmax = int(bndbox.find('xmax').text)\n",
        "        ymax = int(bndbox.find('ymax').text)\n",
        "\n",
        "    return (xmin,ymin,xmax,ymax)"
      ],
      "metadata": {
        "id": "11kuVt5Fikzz"
      },
      "execution_count": 14,
      "outputs": []
    },
    {
      "cell_type": "markdown",
      "source": [
        "##uploading images exetracting hog features"
      ],
      "metadata": {
        "id": "qk22_D0Winl5"
      }
    },
    {
      "cell_type": "code",
      "source": [
        "# Path to the root folder of your dataset\n",
        "dataset_path = root_images\n",
        "\n",
        "# List all subdirectories (assuming each subdirectory corresponds to a class)\n",
        "class_folders = [f.path for f in os.scandir(dataset_path) if f.is_dir()]\n",
        "features_list=[]\n",
        "labels_list=[]\n",
        "\n",
        "from google.colab.patches import cv2_imshow\n",
        "import cv2\n",
        "\n",
        "# Loop through each class folder\n",
        "for class_folder in class_folders:\n",
        "    class_name = os.path.basename(class_folder)\n",
        "\n",
        "    # Loop through each image in the class folder\n",
        "    for image_filename in os.listdir(class_folder):\n",
        "        image_path = os.path.join(class_folder, image_filename)\n",
        "\n",
        "        # Load the image\n",
        "        xmin , ymin ,xmax,ymax = bounding_box(image_filename,class_name)\n",
        "        image = cv2.imread(image_path)\n",
        "        cropped_img = image[ymin:ymax, xmin:xmax]\n",
        "\n",
        "        # Extract HOG features and visualize\n",
        "        hog_features, hog_image = extract_hog_features(cropped_img)\n",
        "\n",
        "        '''\n",
        "        # Display the original image and the HOG features\n",
        "        fig, (ax1, ax2) = plt.subplots(1, 2, figsize=(2, 2), sharex=True, sharey=True)\n",
        "\n",
        "        ax1.axis('off')\n",
        "        ax1.imshow(cropped_img, cmap=plt.cm.gray)\n",
        "\n",
        "        ax2.axis('off')\n",
        "        ax2.imshow(hog_image, cmap=plt.cm.gray)\n",
        "\n",
        "        plt.show()\n",
        "        '''\n",
        "        # Append HOG features to the features list\n",
        "        features_list.append(hog_features)\n",
        "\n",
        "        # Append the label to the labels list\n",
        "        labels_list.append(int(class_name))\n"
      ],
      "metadata": {
        "id": "yUsmzlUZivNH"
      },
      "execution_count": 16,
      "outputs": []
    },
    {
      "cell_type": "code",
      "source": [
        "#spliting dataset to train and test\n",
        "x_train , x_test , y_train , y_test = train_test_split(features_list , labels_list ,test_size = 0.33, random_state=12)"
      ],
      "metadata": {
        "id": "2NJ0aJiBix_A"
      },
      "execution_count": 18,
      "outputs": []
    },
    {
      "cell_type": "markdown",
      "source": [
        "##logistic regresion model and accuracy test"
      ],
      "metadata": {
        "id": "UMwjUvWbi496"
      }
    },
    {
      "cell_type": "code",
      "source": [
        "from sklearn.model_selection import train_test_split\n",
        "from sklearn.linear_model import LogisticRegression\n",
        "model = LogisticRegression(C= 0.1 ,penalty = 'l2',solver='liblinear', max_iter=1000)\n",
        "History = model.fit(x_train,y_train)"
      ],
      "metadata": {
        "id": "mY6tN66Ri8Dp"
      },
      "execution_count": 19,
      "outputs": []
    },
    {
      "cell_type": "code",
      "source": [
        "y_predict = model.predict(x_test)\n",
        "print(model.n_iter_)"
      ],
      "metadata": {
        "colab": {
          "base_uri": "https://localhost:8080/"
        },
        "id": "I-fZplL_i-nA",
        "outputId": "6e5b45af-fa73-4c16-ce81-4adf6df90cae"
      },
      "execution_count": 20,
      "outputs": [
        {
          "output_type": "stream",
          "name": "stdout",
          "text": [
            "[9 8 8 8 8]\n"
          ]
        }
      ]
    },
    {
      "cell_type": "code",
      "source": [
        "predictions = model.predict(x_test)\n",
        "\n",
        "# Calculate accuracy\n",
        "accuracy = accuracy_score(y_test, predictions)"
      ],
      "metadata": {
        "id": "deYMsoSTjCDY"
      },
      "execution_count": 21,
      "outputs": []
    },
    {
      "cell_type": "code",
      "source": [
        "print(accuracy)"
      ],
      "metadata": {
        "colab": {
          "base_uri": "https://localhost:8080/"
        },
        "id": "QtWNeXgijD_D",
        "outputId": "0ba40a06-8df2-412e-ccdf-1cded341b797"
      },
      "execution_count": 22,
      "outputs": [
        {
          "output_type": "stream",
          "name": "stdout",
          "text": [
            "0.4810606060606061\n"
          ]
        }
      ]
    },
    {
      "cell_type": "code",
      "source": [],
      "metadata": {
        "id": "UvkmGcwjkysA"
      },
      "execution_count": null,
      "outputs": []
    }
  ]
}